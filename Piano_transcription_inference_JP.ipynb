{
  "nbformat": 4,
  "nbformat_minor": 0,
  "metadata": {
    "colab": {
      "provenance": [],
      "private_outputs": true,
      "include_colab_link": true
    },
    "kernelspec": {
      "name": "python3",
      "display_name": "Python 3"
    },
    "accelerator": "GPU",
    "gpuClass": "standard"
  },
  "cells": [
    {
      "cell_type": "markdown",
      "metadata": {
        "id": "view-in-github",
        "colab_type": "text"
      },
      "source": [
        "<a href=\"https://colab.research.google.com/github/gumch3w1ngn01r/Spicetify-Extensions/blob/master/Piano_transcription_inference_JP.ipynb\" target=\"_parent\"><img src=\"https://colab.research.google.com/assets/colab-badge.svg\" alt=\"Open In Colab\"/></a>"
      ]
    },
    {
      "cell_type": "code",
      "metadata": {
        "id": "7_-MnB32R4kZ"
      },
      "source": [
        "#@title ##**①必要なソフトのインストール** { display-mode: \"form\" }\n",
        "!pip install yt_dlp\n",
        "!pip install ffmpeg\n",
        "!pip install librosa==0.9.2\n",
        "\n",
        "import yt_dlp\n",
        "import ffmpeg\n",
        "import os\n",
        "import os.path as osp\n",
        "from os import path\n",
        "\n",
        "!pip install piano_transcription_inference\n",
        "from IPython.display import Audio\n",
        "from google.colab import files\n",
        "\n",
        "!rm -r sample_data"
      ],
      "execution_count": null,
      "outputs": []
    },
    {
      "cell_type": "code",
      "metadata": {
        "id": "Bhwpq1R38FPw"
      },
      "source": [
        "#@title ##**②音声ファイルを読み込む** { display-mode: \"form\" }\n",
        "#@markdown mid化したい音声のURLを貼ろう！(YouTube,Twitterなど)\n",
        "source_url = '' #@param {type:\"string\"}\n",
        "#@markdown 空欄のまま実行するとPCからファイルを読み込めます※mp3ファイルでアップロードしてください\n",
        "\n",
        "file_name = '【楽譜あり】プロポーズ_なとり（ピアノソロ中級～上級）【ピアノアレンジ楽譜】 - Dさん【ピアノ楽譜】 (youtube).mp3'\n",
        "\n",
        "# The rest of the download/upload logic is removed since a file has been selected.\n",
        "# The transcription will now use the specified file_name."
      ],
      "execution_count": null,
      "outputs": []
    },
    {
      "cell_type": "code",
      "metadata": {
        "id": "_eVSRSRVdWtj"
      },
      "source": [
        "#@title ##**③出力するファイルの名前を書いてね** { display-mode: \"form\" }\n",
        "#@markdown ※拡張子を書く必要はありません\n",
        "output_midi_path = 'プロポーズ' #@param {type:\"string\"}\n",
        "from piano_transcription_inference import PianoTranscription, sample_rate, load_audio\n",
        "\n",
        "def transcribe(audio_path, output_midi_path):\n",
        "    # Load audio\n",
        "    audio, _ = load_audio(audio_path, sr=sample_rate, mono=True)\n",
        "\n",
        "    # Transcriptor\n",
        "    transcriptor = PianoTranscription(device='cuda', checkpoint_path=None)\n",
        "\n",
        "    # Transcribe and write out to MIDI file\n",
        "    transcriptor.transcribe(audio, output_midi_path)"
      ],
      "execution_count": null,
      "outputs": []
    },
    {
      "cell_type": "code",
      "metadata": {
        "id": "0h6pqv2Ulcc_"
      },
      "source": [
        "#@title ##**④書き出し開始！** { display-mode: \"form\" }\n",
        "transcribe(file_name, output_midi_path + \".mid\")\n",
        "files.download(output_midi_path + \".mid\")\n",
        "!rm \"$file_name\""
      ],
      "execution_count": null,
      "outputs": []
    },
    {
      "cell_type": "markdown",
      "metadata": {
        "id": "09148695"
      },
      "source": [
        "### Uploading an Audio File Directly\n",
        "\n",
        "If you don't want to use a YouTube URL or are facing download issues, you can upload your audio file directly.\n",
        "\n",
        "1.  Go to cell **②音声ファイルを読み込む**.\n",
        "2.  Clear the text from the `source_url` input box.\n",
        "3.  Run the cell. A file upload dialog will appear.\n",
        "4.  Select the audio file you want to use from your computer. **Please make sure it is in a common audio format like MP3.**\n",
        "\n",
        "Once the file is uploaded, the notebook will rename it to `music.mp3` and you can proceed to the next steps to transcribe the audio."
      ]
    }
  ]
}